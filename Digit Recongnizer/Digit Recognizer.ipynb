{
 "cells": [
  {
   "cell_type": "code",
   "execution_count": 1,
   "metadata": {
    "colab": {
     "base_uri": "https://localhost:8080/",
     "height": 266,
     "resources": {
      "http://localhost:8080/nbextensions/google.colab/files.js": {
       "data": "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",
       "headers": [
        [
         "content-type",
         "application/javascript"
        ]
       ],
       "ok": true,
       "status": 200,
       "status_text": ""
      }
     }
    },
    "executionInfo": {
     "elapsed": 13836,
     "status": "ok",
     "timestamp": 1646316959372,
     "user": {
      "displayName": "kesydone Roy",
      "photoUrl": "https://lh3.googleusercontent.com/a-/AOh14GgS3NkqGsZslXG93kdC4DR8LFWhum5WA0OglMhzxw=s64",
      "userId": "16868729614995340978"
     },
     "user_tz": -480
    },
    "id": "fmfeOe0bGznF",
    "outputId": "cfcf04e0-6d31-4e81-fea1-fe7aab4b7879"
   },
   "outputs": [
    {
     "name": "stdout",
     "output_type": "stream",
     "text": [
      "Downloading digit-recognizer.zip to /workspace/Digit Recongnizer\n",
      " 91%|██████████████████████████████████▋   | 14.0M/15.3M [00:00<00:00, 68.2MB/s]\n",
      "100%|██████████████████████████████████████| 15.3M/15.3M [00:00<00:00, 66.6MB/s]\n"
     ]
    }
   ],
   "source": [
    "'''\n",
    "get kaggle dataset\n",
    "'''\n",
    "!pip install -q kaggle\n",
    "# !mkdir ~/.kaggle\n",
    "# !cp kaggle.json ~/.kaggle/\n",
    "# !chmod 600 ~/.kaggle/kaggle.json\n",
    "!kaggle competitions download -c digit-recognizer"
   ]
  },
  {
   "cell_type": "code",
   "execution_count": 2,
   "metadata": {
    "colab": {
     "base_uri": "https://localhost:8080/"
    },
    "executionInfo": {
     "elapsed": 6454,
     "status": "ok",
     "timestamp": 1646326838184,
     "user": {
      "displayName": "kesydone Roy",
      "photoUrl": "https://lh3.googleusercontent.com/a-/AOh14GgS3NkqGsZslXG93kdC4DR8LFWhum5WA0OglMhzxw=s64",
      "userId": "16868729614995340978"
     },
     "user_tz": -480
    },
    "id": "VC4tbVXLIa9p",
    "outputId": "21568644-6a60-4a01-e655-b9f07b53f987"
   },
   "outputs": [
    {
     "name": "stdout",
     "output_type": "stream",
     "text": [
      "Archive:  ./digit-recognizer.zip\n",
      "  inflating: sample_submission.csv   \n",
      "  inflating: test.csv                \n",
      "  inflating: train.csv               \n"
     ]
    }
   ],
   "source": [
    "!unzip ./digit-recognizer.zip"
   ]
  },
  {
   "cell_type": "code",
   "execution_count": 5,
   "metadata": {
    "scrolled": true
   },
   "outputs": [],
   "source": [
    "from IPython.display import clear_output\n",
    "\n",
    "!pip install pandas\n",
    "!pip install numpy\n",
    "!pip install matplotlib\n",
    "!pip install opencv-python\n",
    "clear_output()"
   ]
  },
  {
   "cell_type": "code",
   "execution_count": 6,
   "metadata": {
    "executionInfo": {
     "elapsed": 353,
     "status": "ok",
     "timestamp": 1646326984647,
     "user": {
      "displayName": "kesydone Roy",
      "photoUrl": "https://lh3.googleusercontent.com/a-/AOh14GgS3NkqGsZslXG93kdC4DR8LFWhum5WA0OglMhzxw=s64",
      "userId": "16868729614995340978"
     },
     "user_tz": -480
    },
    "id": "PEq8Q3NYWq6W"
   },
   "outputs": [],
   "source": [
    "def data_preprocessing(data):\n",
    "\n",
    "    NEW_COLUMNS = [\"label_\" + str(i) for i in range(10)] + [\n",
    "        \"pixel\" + str(i) for i in range(784)\n",
    "    ]\n",
    "\n",
    "    if \"label\" in data.columns:\n",
    "        data = data.join(pd.get_dummies(data.label, prefix=\"label\"))\n",
    "    data = pd.DataFrame(data, columns=NEW_COLUMNS)\n",
    "    data = data.fillna(0)\n",
    "\n",
    "    return data\n"
   ]
  },
  {
   "cell_type": "code",
   "execution_count": 8,
   "metadata": {
    "colab": {
     "base_uri": "https://localhost:8080/"
    },
    "executionInfo": {
     "elapsed": 2861,
     "status": "ok",
     "timestamp": 1646326988030,
     "user": {
      "displayName": "kesydone Roy",
      "photoUrl": "https://lh3.googleusercontent.com/a-/AOh14GgS3NkqGsZslXG93kdC4DR8LFWhum5WA0OglMhzxw=s64",
      "userId": "16868729614995340978"
     },
     "user_tz": -480
    },
    "id": "Yrl3y8wSJQ1h",
    "outputId": "3f46250d-9acd-4c98-c09b-5f2a7a651eea"
   },
   "outputs": [
    {
     "name": "stdout",
     "output_type": "stream",
     "text": [
      "   label  pixel0  pixel1  pixel2  pixel3  pixel4  pixel5  pixel6  pixel7  \\\n",
      "0      1       0       0       0       0       0       0       0       0   \n",
      "1      0       0       0       0       0       0       0       0       0   \n",
      "2      1       0       0       0       0       0       0       0       0   \n",
      "\n",
      "   pixel8  ...  pixel774  pixel775  pixel776  pixel777  pixel778  pixel779  \\\n",
      "0       0  ...         0         0         0         0         0         0   \n",
      "1       0  ...         0         0         0         0         0         0   \n",
      "2       0  ...         0         0         0         0         0         0   \n",
      "\n",
      "   pixel780  pixel781  pixel782  pixel783  \n",
      "0         0         0         0         0  \n",
      "1         0         0         0         0  \n",
      "2         0         0         0         0  \n",
      "\n",
      "[3 rows x 785 columns]\n",
      "28.0\n"
     ]
    }
   ],
   "source": [
    "\"\"\"\n",
    "確認資料格式\n",
    "\"\"\"\n",
    "import pandas as pd\n",
    "import numpy as np\n",
    "import math\n",
    "import matplotlib.pyplot as plt\n",
    "\n",
    "\n",
    "data = pd.read_csv(\"train.csv\")\n",
    "print(data[:3])\n",
    "print(math.sqrt(784))\n"
   ]
  },
  {
   "cell_type": "code",
   "execution_count": 9,
   "metadata": {
    "colab": {
     "base_uri": "https://localhost:8080/"
    },
    "executionInfo": {
     "elapsed": 475,
     "status": "ok",
     "timestamp": 1646326988501,
     "user": {
      "displayName": "kesydone Roy",
      "photoUrl": "https://lh3.googleusercontent.com/a-/AOh14GgS3NkqGsZslXG93kdC4DR8LFWhum5WA0OglMhzxw=s64",
      "userId": "16868729614995340978"
     },
     "user_tz": -480
    },
    "id": "aj_86SSlLXL9",
    "outputId": "863dafb2-bd8b-470c-eac1-82c8931c1a66"
   },
   "outputs": [
    {
     "name": "stdout",
     "output_type": "stream",
     "text": [
      "(29400, 784)\n",
      "(29400,)\n"
     ]
    }
   ],
   "source": [
    "\"\"\"\n",
    "分離出 train, valid 的輸入輸出\n",
    "\"\"\"\n",
    "\n",
    "train = data.sample(frac=0.7, random_state=12345)\n",
    "valid = data.drop(train.index)\n",
    "\n",
    "\n",
    "train_x = train.drop(labels=[\"label\"], axis=1)\n",
    "train_y = train[\"label\"]\n",
    "\n",
    "valid_x = valid.drop(labels=[\"label\"], axis=1)\n",
    "valid_y = valid[\"label\"]\n",
    "print(train_x.shape)\n",
    "print(train_y.shape)\n"
   ]
  },
  {
   "cell_type": "code",
   "execution_count": 10,
   "metadata": {
    "colab": {
     "base_uri": "https://localhost:8080/",
     "height": 297
    },
    "executionInfo": {
     "elapsed": 1677,
     "status": "ok",
     "timestamp": 1646326990551,
     "user": {
      "displayName": "kesydone Roy",
      "photoUrl": "https://lh3.googleusercontent.com/a-/AOh14GgS3NkqGsZslXG93kdC4DR8LFWhum5WA0OglMhzxw=s64",
      "userId": "16868729614995340978"
     },
     "user_tz": -480
    },
    "id": "jOKQQZXZJt3E",
    "outputId": "b0373d67-ed2f-4bbc-8aef-0d86aa977c07"
   },
   "outputs": [
    {
     "data": {
      "text/plain": [
       "<Figure size 432x288 with 0 Axes>"
      ]
     },
     "metadata": {},
     "output_type": "display_data"
    },
    {
     "data": {
      "image/png": "[encoded data removed]",
      "text/plain": [
       "<Figure size 432x288 with 4 Axes>"
      ]
     },
     "metadata": {
      "needs_background": "light"
     },
     "output_type": "display_data"
    },
    {
     "name": "stdout",
     "output_type": "stream",
     "text": [
      "39708    1\n",
      "40011    9\n",
      "40531    3\n",
      "33023    9\n",
      "Name: label, dtype: int64\n"
     ]
    }
   ],
   "source": [
    "import numpy as np\n",
    "from matplotlib import pyplot as plt\n",
    "import cv2\n",
    "\n",
    "train_x_nd = np.array(train_x.values.tolist(), dtype=int)\n",
    "\n",
    "\n",
    "train_x_nd = train_x_nd.reshape(train_x_nd.shape[0], 28, 28)\n",
    "train_x_nd = np.expand_dims(train_x_nd, axis=1)\n",
    "images = train_x_nd.astype(np.uint8)\n",
    "plt.figure()\n",
    "f, axarr = plt.subplots(1, 4)\n",
    "for i in range(4):\n",
    "    axarr[i].imshow(images[i][0])\n",
    "plt.show()\n",
    "print(train_y.head(4))\n"
   ]
  },
  {
   "cell_type": "code",
   "execution_count": 14,
   "metadata": {
    "colab": {
     "base_uri": "https://localhost:8080/"
    },
    "executionInfo": {
     "elapsed": 476,
     "status": "ok",
     "timestamp": 1646326991022,
     "user": {
      "displayName": "kesydone Roy",
      "photoUrl": "https://lh3.googleusercontent.com/a-/AOh14GgS3NkqGsZslXG93kdC4DR8LFWhum5WA0OglMhzxw=s64",
      "userId": "16868729614995340978"
     },
     "user_tz": -480
    },
    "id": "7-8b9poPO_g9",
    "outputId": "1a92d777-d82d-45e4-979f-a4644ee83174"
   },
   "outputs": [
    {
     "name": "stdout",
     "output_type": "stream",
     "text": [
      "1.8.1\n",
      "True\n",
      "device:  cuda:0\n"
     ]
    }
   ],
   "source": [
    "import torch\n",
    "from torch import nn\n",
    "from torch.utils.data import TensorDataset, DataLoader\n",
    "\n",
    "print(torch.__version__)\n",
    "print(torch.cuda.is_available())\n",
    "device = torch.device(\"cuda:0\" if torch.cuda.is_available() else \"cpu\")\n",
    "print(\"device: \", device)\n"
   ]
  },
  {
   "cell_type": "code",
   "execution_count": 30,
   "metadata": {
    "executionInfo": {
     "elapsed": 10,
     "status": "ok",
     "timestamp": 1646326991023,
     "user": {
      "displayName": "kesydone Roy",
      "photoUrl": "https://lh3.googleusercontent.com/a-/AOh14GgS3NkqGsZslXG93kdC4DR8LFWhum5WA0OglMhzxw=s64",
      "userId": "16868729614995340978"
     },
     "user_tz": -480
    },
    "id": "el8eTe2TOyEK"
   },
   "outputs": [],
   "source": [
    "class CNN(nn.Module):\n",
    "    def __init__(self):\n",
    "        super().__init__()\n",
    "        self.net = nn.Sequential(\n",
    "            nn.Conv2d(\n",
    "                in_channels=1, out_channels=16, kernel_size=3, stride=1, padding=1\n",
    "            ),  # (16,28,28)\n",
    "            nn.BatchNorm2d(16),\n",
    "            nn.ReLU(),\n",
    "            nn.Conv2d(\n",
    "                in_channels=16, out_channels=16, kernel_size=3, stride=1, padding=1\n",
    "            ),  # (16,28,28)\n",
    "            nn.BatchNorm2d(16),\n",
    "            nn.ReLU(),\n",
    "            nn.MaxPool2d(kernel_size=2),  # (16,14,14)\n",
    "            nn.Conv2d(\n",
    "                in_channels=16, out_channels=8, kernel_size=3, stride=1, padding=1\n",
    "            ),  # (8,14,14)\n",
    "            nn.BatchNorm2d(8),\n",
    "            nn.ReLU(),\n",
    "            nn.Conv2d(\n",
    "                in_channels=8, out_channels=8, kernel_size=3, stride=1, padding=1\n",
    "            ),  # (8,14,14)\n",
    "            nn.BatchNorm2d(8),\n",
    "            nn.ReLU(),\n",
    "            nn.MaxPool2d(kernel_size=2),  # (8,7,7)\n",
    "            nn.Flatten(1, -1),  # start_dim, end_dim\n",
    "            nn.Linear(392, 16),  # 392 = 8*7*7\n",
    "            nn.BatchNorm1d(16),\n",
    "            nn.ReLU(),\n",
    "            nn.Dropout(0.25),\n",
    "            nn.Linear(16, 10),\n",
    "        )\n",
    "\n",
    "    def forward(self, input):\n",
    "        out = self.net(input)\n",
    "        return out\n"
   ]
  },
  {
   "cell_type": "code",
   "execution_count": 31,
   "metadata": {
    "colab": {
     "base_uri": "https://localhost:8080/"
    },
    "executionInfo": {
     "elapsed": 9,
     "status": "ok",
     "timestamp": 1646326991023,
     "user": {
      "displayName": "kesydone Roy",
      "photoUrl": "https://lh3.googleusercontent.com/a-/AOh14GgS3NkqGsZslXG93kdC4DR8LFWhum5WA0OglMhzxw=s64",
      "userId": "16868729614995340978"
     },
     "user_tz": -480
    },
    "id": "ZCWWBtm9QkoI",
    "outputId": "a9ca0d4f-d57f-4bb3-98ce-c7b9a61b1dc8",
    "scrolled": true
   },
   "outputs": [
    {
     "name": "stdout",
     "output_type": "stream",
     "text": [
      "CNN(\n",
      "  (net): Sequential(\n",
      "    (0): Conv2d(1, 16, kernel_size=(3, 3), stride=(1, 1), padding=(1, 1))\n",
      "    (1): BatchNorm2d(16, eps=1e-05, momentum=0.1, affine=True, track_running_stats=True)\n",
      "    (2): ReLU()\n",
      "    (3): Conv2d(16, 16, kernel_size=(3, 3), stride=(1, 1), padding=(1, 1))\n",
      "    (4): BatchNorm2d(16, eps=1e-05, momentum=0.1, affine=True, track_running_stats=True)\n",
      "    (5): ReLU()\n",
      "    (6): MaxPool2d(kernel_size=2, stride=2, padding=0, dilation=1, ceil_mode=False)\n",
      "    (7): Conv2d(16, 8, kernel_size=(3, 3), stride=(1, 1), padding=(1, 1))\n",
      "    (8): BatchNorm2d(8, eps=1e-05, momentum=0.1, affine=True, track_running_stats=True)\n",
      "    (9): ReLU()\n",
      "    (10): Conv2d(8, 8, kernel_size=(3, 3), stride=(1, 1), padding=(1, 1))\n",
      "    (11): BatchNorm2d(8, eps=1e-05, momentum=0.1, affine=True, track_running_stats=True)\n",
      "    (12): ReLU()\n",
      "    (13): MaxPool2d(kernel_size=2, stride=2, padding=0, dilation=1, ceil_mode=False)\n",
      "    (14): Flatten(start_dim=1, end_dim=-1)\n",
      "    (15): Linear(in_features=392, out_features=16, bias=True)\n",
      "    (16): BatchNorm1d(16, eps=1e-05, momentum=0.1, affine=True, track_running_stats=True)\n",
      "    (17): ReLU()\n",
      "    (18): Dropout(p=0.25, inplace=False)\n",
      "    (19): Linear(in_features=16, out_features=10, bias=True)\n",
      "  )\n",
      ")\n",
      "torch.Size([2, 10])\n"
     ]
    }
   ],
   "source": [
    "model = CNN().to(device)\n",
    "print(model)\n",
    "train_x_tensor = torch.tensor(train_x_nd, dtype=torch.float).to(device)\n",
    "\n",
    "print(model(train_x_tensor[:2, :, :, :]).shape)\n"
   ]
  },
  {
   "cell_type": "code",
   "execution_count": 32,
   "metadata": {
    "executionInfo": {
     "elapsed": 7,
     "status": "ok",
     "timestamp": 1646326991024,
     "user": {
      "displayName": "kesydone Roy",
      "photoUrl": "https://lh3.googleusercontent.com/a-/AOh14GgS3NkqGsZslXG93kdC4DR8LFWhum5WA0OglMhzxw=s64",
      "userId": "16868729614995340978"
     },
     "user_tz": -480
    },
    "id": "HV1j8H2uWVXE"
   },
   "outputs": [],
   "source": [
    "\"\"\"\n",
    "hyperparameters\n",
    "\"\"\"\n",
    "epochs = 50\n",
    "learning_rate = 0.0001\n",
    "batch_size = 8\n",
    "optimizer = torch.optim.Adam(model.parameters(), lr=learning_rate)\n",
    "criterion = nn.CrossEntropyLoss()\n"
   ]
  },
  {
   "cell_type": "code",
   "execution_count": 33,
   "metadata": {
    "colab": {
     "base_uri": "https://localhost:8080/"
    },
    "id": "ZtjcQV5GbmFF",
    "outputId": "119a1900-227b-4277-be66-25358f247f00"
   },
   "outputs": [
    {
     "name": "stdout",
     "output_type": "stream",
     "text": [
      "epoches:  0 loss:  0.666256844997406\n",
      "valid - epoches:  0 loss:  0.666256844997406\n",
      "Accuracy in valid set:  94.57142857142857%\n",
      "epoches:  10 loss:  0.052071359008550644\n",
      "valid - epoches:  10 loss:  0.052071359008550644\n",
      "Accuracy in valid set:  98.33333333333333%\n",
      "epoches:  20 loss:  0.043777946382761\n",
      "valid - epoches:  20 loss:  0.043777946382761\n",
      "Accuracy in valid set:  98.65079365079366%\n",
      "epoches:  30 loss:  0.038312144577503204\n",
      "valid - epoches:  30 loss:  0.038312144577503204\n",
      "Accuracy in valid set:  98.90476190476191%\n",
      "epoches:  40 loss:  0.03601710498332977\n",
      "valid - epoches:  40 loss:  0.03601710498332977\n",
      "Accuracy in valid set:  98.85714285714286%\n",
      "best loss in valid:  0.03339292109012604\n",
      "It's accuracy:  98.93650793650794\n"
     ]
    }
   ],
   "source": [
    "train_inputs = torch.tensor(train_x.values.tolist(), dtype=torch.float32).to(device)\n",
    "\n",
    "train_inputs = torch.reshape(train_inputs, (train_inputs.shape[0], 28, 28))\n",
    "train_inputs = torch.unsqueeze(train_inputs, dim=1)\n",
    "\n",
    "train_labels = torch.tensor(train_y.values.tolist(), dtype=torch.float32).to(device)\n",
    "\n",
    "\n",
    "valid_inputs = torch.tensor(valid_x.values.tolist(), dtype=torch.float32).to(device)\n",
    "\n",
    "valid_inputs = torch.reshape(valid_inputs, (valid_inputs.shape[0], 28, 28))\n",
    "valid_inputs = torch.unsqueeze(valid_inputs, dim=1)\n",
    "\n",
    "\n",
    "valid_labels = torch.tensor(valid_y.values.tolist(), dtype=torch.float32).to(device)\n",
    "\n",
    "train_dataset = TensorDataset(train_inputs, train_labels)\n",
    "trainLoader = DataLoader(\n",
    "    train_dataset, batch_size=batch_size, shuffle=True, num_workers=0\n",
    ")\n",
    "\n",
    "\n",
    "best_loss = 1000000000\n",
    "best_accuracy = 0\n",
    "\n",
    "for epoch_index, epoch in enumerate(range(epochs), 0):\n",
    "    model.train()\n",
    "    for i, batch in enumerate(trainLoader, 0):\n",
    "        inputs, labels = batch\n",
    "\n",
    "        optimizer.zero_grad()\n",
    "\n",
    "        outputs = model(inputs)\n",
    "        loss = criterion(outputs, labels.long())\n",
    "        loss.backward()\n",
    "\n",
    "        optimizer.step()\n",
    "\n",
    "    if epoch_index % 1 == 0:\n",
    "        model.eval()\n",
    "        with torch.no_grad():\n",
    "            outputs = model(valid_inputs)\n",
    "            loss = criterion(outputs, valid_labels.long())\n",
    "            if loss < best_loss:\n",
    "                best_loss = loss\n",
    "                torch.save(model.state_dict(), \"model.pk1\")\n",
    "                _, predicted = torch.max(outputs, 1)\n",
    "                best_accuracy = (\n",
    "                    ((predicted == valid_labels).sum().item())\n",
    "                    / valid_labels.shape[0]\n",
    "                    * 100\n",
    "                )\n",
    "\n",
    "            if epoch_index % 10 == 0:\n",
    "                print(\"epoches: \", epoch_index, \"loss: \", loss.item())\n",
    "                print(\"valid - epoches: \", epoch_index, \"loss: \", loss.item())\n",
    "                _, predicted = torch.max(outputs, 1)\n",
    "                print(\n",
    "                    \"Accuracy in valid set: \",\n",
    "                    str(\n",
    "                        ((predicted == valid_labels).sum().item())\n",
    "                        / valid_labels.shape[0]\n",
    "                        * 100\n",
    "                    )\n",
    "                    + \"%\",\n",
    "                )\n",
    "\n",
    "print(\"best loss in valid: \", best_loss.item())\n",
    "print(\"It's accuracy: \", best_accuracy)\n"
   ]
  },
  {
   "cell_type": "code",
   "execution_count": 34,
   "metadata": {
    "id": "3F2Od1YZsMrb"
   },
   "outputs": [],
   "source": [
    "model.load_state_dict(torch.load(\"model.pk1\"))\n",
    "model.eval()\n",
    "\n",
    "\n",
    "data = pd.read_csv(\"test.csv\")\n",
    "\n",
    "test_inputs = torch.tensor(data.values.tolist(), dtype=torch.float32).to(device)\n",
    "test_inputs = torch.reshape(test_inputs, (test_inputs.shape[0], 28, 28))\n",
    "test_inputs = torch.unsqueeze(test_inputs, dim=1)\n",
    "\n",
    "test_ans = []\n",
    "\n",
    "for row in test_inputs:\n",
    "    test_ans.append(torch.max(model(torch.unsqueeze(row, dim=0)), 1)[1].item())\n",
    "\n",
    "\n",
    "submission = pd.read_csv(\"./sample_submission.csv\")\n",
    "submission[\"Label\"] = torch.tensor(test_ans).cpu()\n",
    "submission.to_csv(\"./sample_submission.csv\", index=False)\n"
   ]
  }
 ],
 "metadata": {
  "colab": {
   "authorship_tag": "ABX9TyOUuSoZwpjY4jdRhuixvOCh",
   "collapsed_sections": [],
   "name": "Digit Recognizer.ipynb",
   "provenance": []
  },
  "kernelspec": {
   "display_name": "Python 3.8.8 ('base')",
   "language": "python",
   "name": "python3"
  },
  "language_info": {
   "codemirror_mode": {
    "name": "ipython",
    "version": 3
   },
   "file_extension": ".py",
   "mimetype": "text/x-python",
   "name": "python",
   "nbconvert_exporter": "python",
   "pygments_lexer": "ipython3",
   "version": "3.8.8"
  },
  "vscode": {
   "interpreter": {
    "hash": "d4d1e4263499bec80672ea0156c357c1ee493ec2b1c70f0acce89fc37c4a6abe"
   }
  }
 },
 "nbformat": 4,
 "nbformat_minor": 1
}
