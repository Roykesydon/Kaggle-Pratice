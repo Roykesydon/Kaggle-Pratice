{
 "cells": [
  {
   "cell_type": "code",
   "execution_count": 2,
   "metadata": {
    "colab": {
     "base_uri": "https://localhost:8080/",
     "height": 266,
     "resources": {
      "http://localhost:8080/nbextensions/google.colab/files.js": {
       "data": "Ly8gQ29weXJpZ2h0IDIwMTcgR29vZ2xlIExMQwovLwovLyBMaWNlbnNlZCB1bmRlciB0aGUgQXBhY2hlIExpY2Vuc2UsIFZlcnNpb24gMi4wICh0aGUgIkxpY2Vuc2UiKTsKLy8geW91IG1heSBub3QgdXNlIHRoaXMgZmlsZSBleGNlcHQgaW4gY29tcGxpYW5jZSB3aXRoIHRoZSBMaWNlbnNlLgovLyBZb3UgbWF5IG9idGFpbiBhIGNvcHkgb2YgdGhlIExpY2Vuc2UgYXQKLy8KLy8gICAgICBodHRwOi8vd3d3LmFwYWNoZS5vcmcvbGljZW5zZXMvTElDRU5TRS0yLjAKLy8KLy8gVW5sZXNzIHJlcXVpcmVkIGJ5IGFwcGxpY2FibGUgbGF3IG9yIGFncmVlZCB0byBpbiB3cml0aW5nLCBzb2Z0d2FyZQovLyBkaXN0cmlidXRlZCB1bmRlciB0aGUgTGljZW5zZSBpcyBkaXN0cmlidXRlZCBvbiBhbiAiQVMgSVMiIEJBU0lTLAovLyBXSVRIT1VUIFdBUlJBTlRJRVMgT1IgQ09ORElUSU9OUyBPRiBBTlkgS0lORCwgZWl0aGVyIGV4cHJlc3Mgb3IgaW1wbGllZC4KLy8gU2VlIHRoZSBMaWNlbnNlIGZvciB0aGUgc3BlY2lmaWMgbGFuZ3VhZ2UgZ292ZXJuaW5nIHBlcm1pc3Npb25zIGFuZAovLyBsaW1pdGF0aW9ucyB1bmRlciB0aGUgTGljZW5zZS4KCi8qKgogKiBAZmlsZW92ZXJ2aWV3IEhlbHBlcnMgZm9yIGdvb2dsZS5jb2xhYiBQeXRob24gbW9kdWxlLgogKi8KKGZ1bmN0aW9uKHNjb3BlKSB7CmZ1bmN0aW9uIHNwYW4odGV4dCwgc3R5bGVBdHRyaWJ1dGVzID0ge30pIHsKICBjb25zdCBlbGVtZW50ID0gZG9jdW1lbnQuY3JlYXRlRWxlbWVudCgnc3BhbicpOwogIGVsZW1lbnQudGV4dENvbnRlbnQgPSB0ZXh0OwogIGZvciAoY29uc3Qga2V5IG9mIE9iamVjdC5rZXlzKHN0eWxlQXR0cmlidXRlcykpIHsKICAgIGVsZW1lbnQuc3R5bGVba2V5XSA9IHN0eWxlQXR0cmlidXRlc1trZXldOwogIH0KICByZXR1cm4gZWxlbWVudDsKfQoKLy8gTWF4IG51bWJlciBvZiBieXRlcyB3aGljaCB3aWxsIGJlIHVwbG9hZGVkIGF0IGEgdGltZS4KY29uc3QgTUFYX1BBWUxPQURfU0laRSA9IDEwMCAqIDEwMjQ7CgpmdW5jdGlvbiBfdXBsb2FkRmlsZXMoaW5wdXRJZCwgb3V0cHV0SWQpIHsKICBjb25zdCBzdGVwcyA9IHVwbG9hZEZpbGVzU3RlcChpbnB1dElkLCBvdXRwdXRJZCk7CiAgY29uc3Qgb3V0cHV0RWxlbWVudCA9IGRvY3VtZW50LmdldEVsZW1lbnRCeUlkKG91dHB1dElkKTsKICAvLyBDYWNoZSBzdGVwcyBvbiB0aGUgb3V0cHV0RWxlbWVudCB0byBtYWtlIGl0IGF2YWlsYWJsZSBmb3IgdGhlIG5leHQgY2FsbAogIC8vIHRvIHVwbG9hZEZpbGVzQ29udGludWUgZnJvbSBQeXRob24uCiAgb3V0cHV0RWxlbWVudC5zdGVwcyA9IHN0ZXBzOwoKICByZXR1cm4gX3VwbG9hZEZpbGVzQ29udGludWUob3V0cHV0SWQpOwp9CgovLyBUaGlzIGlzIHJvdWdobHkgYW4gYXN5bmMgZ2VuZXJhdG9yIChub3Qgc3VwcG9ydGVkIGluIHRoZSBicm93c2VyIHlldCksCi8vIHdoZXJlIHRoZXJlIGFyZSBtdWx0aXBsZSBhc3luY2hyb25vdXMgc3RlcHMgYW5kIHRoZSBQeXRob24gc2lkZSBpcyBnb2luZwovLyB0byBwb2xsIGZvciBjb21wbGV0aW9uIG9mIGVhY2ggc3RlcC4KLy8gVGhpcyB1c2VzIGEgUHJvbWlzZSB0byBibG9jayB0aGUgcHl0aG9uIHNpZGUgb24gY29tcGxldGlvbiBvZiBlYWNoIHN0ZXAsCi8vIHRoZW4gcGFzc2VzIHRoZSByZXN1bHQgb2YgdGhlIHByZXZpb3VzIHN0ZXAgYXMgdGhlIGlucHV0IHRvIHRoZSBuZXh0IHN0ZXAuCmZ1bmN0aW9uIF91cGxvYWRGaWxlc0NvbnRpbnVlKG91dHB1dElkKSB7CiAgY29uc3Qgb3V0cHV0RWxlbWVudCA9IGRvY3VtZW50LmdldEVsZW1lbnRCeUlkKG91dHB1dElkKTsKICBjb25zdCBzdGVwcyA9IG91dHB1dEVsZW1lbnQuc3RlcHM7CgogIGNvbnN0IG5leHQgPSBzdGVwcy5uZXh0KG91dHB1dEVsZW1lbnQubGFzdFByb21pc2VWYWx1ZSk7CiAgcmV0dXJuIFByb21pc2UucmVzb2x2ZShuZXh0LnZhbHVlLnByb21pc2UpLnRoZW4oKHZhbHVlKSA9PiB7CiAgICAvLyBDYWNoZSB0aGUgbGFzdCBwcm9taXNlIHZhbHVlIHRvIG1ha2UgaXQgYXZhaWxhYmxlIHRvIHRoZSBuZXh0CiAgICAvLyBzdGVwIG9mIHRoZSBnZW5lcmF0b3IuCiAgICBvdXRwdXRFbGVtZW50Lmxhc3RQcm9taXNlVmFsdWUgPSB2YWx1ZTsKICAgIHJldHVybiBuZXh0LnZhbHVlLnJlc3BvbnNlOwogIH0pOwp9CgovKioKICogR2VuZXJhdG9yIGZ1bmN0aW9uIHdoaWNoIGlzIGNhbGxlZCBiZXR3ZWVuIGVhY2ggYXN5bmMgc3RlcCBvZiB0aGUgdXBsb2FkCiAqIHByb2Nlc3MuCiAqIEBwYXJhbSB7c3RyaW5nfSBpbnB1dElkIEVsZW1lbnQgSUQgb2YgdGhlIGlucHV0IGZpbGUgcGlja2VyIGVsZW1lbnQuCiAqIEBwYXJhbSB7c3RyaW5nfSBvdXRwdXRJZCBFbGVtZW50IElEIG9mIHRoZSBvdXRwdXQgZGlzcGxheS4KICogQHJldHVybiB7IUl0ZXJhYmxlPCFPYmplY3Q+fSBJdGVyYWJsZSBvZiBuZXh0IHN0ZXBzLgogKi8KZnVuY3Rpb24qIHVwbG9hZEZpbGVzU3RlcChpbnB1dElkLCBvdXRwdXRJZCkgewogIGNvbnN0IGlucHV0RWxlbWVudCA9IGRvY3VtZW50LmdldEVsZW1lbnRCeUlkKGlucHV0SWQpOwogIGlucHV0RWxlbWVudC5kaXNhYmxlZCA9IGZhbHNlOwoKICBjb25zdCBvdXRwdXRFbGVtZW50ID0gZG9jdW1lbnQuZ2V0RWxlbWVudEJ5SWQob3V0cHV0SWQpOwogIG91dHB1dEVsZW1lbnQuaW5uZXJIVE1MID0gJyc7CgogIGNvbnN0IHBpY2tlZFByb21pc2UgPSBuZXcgUHJvbWlzZSgocmVzb2x2ZSkgPT4gewogICAgaW5wdXRFbGVtZW50LmFkZEV2ZW50TGlzdGVuZXIoJ2NoYW5nZScsIChlKSA9PiB7CiAgICAgIHJlc29sdmUoZS50YXJnZXQuZmlsZXMpOwogICAgfSk7CiAgfSk7CgogIGNvbnN0IGNhbmNlbCA9IGRvY3VtZW50LmNyZWF0ZUVsZW1lbnQoJ2J1dHRvbicpOwogIGlucHV0RWxlbWVudC5wYXJlbnRFbGVtZW50LmFwcGVuZENoaWxkKGNhbmNlbCk7CiAgY2FuY2VsLnRleHRDb250ZW50ID0gJ0NhbmNlbCB1cGxvYWQnOwogIGNvbnN0IGNhbmNlbFByb21pc2UgPSBuZXcgUHJvbWlzZSgocmVzb2x2ZSkgPT4gewogICAgY2FuY2VsLm9uY2xpY2sgPSAoKSA9PiB7CiAgICAgIHJlc29sdmUobnVsbCk7CiAgICB9OwogIH0pOwoKICAvLyBXYWl0IGZvciB0aGUgdXNlciB0byBwaWNrIHRoZSBmaWxlcy4KICBjb25zdCBmaWxlcyA9IHlpZWxkIHsKICAgIHByb21pc2U6IFByb21pc2UucmFjZShbcGlja2VkUHJvbWlzZSwgY2FuY2VsUHJvbWlzZV0pLAogICAgcmVzcG9uc2U6IHsKICAgICAgYWN0aW9uOiAnc3RhcnRpbmcnLAogICAgfQogIH07CgogIGNhbmNlbC5yZW1vdmUoKTsKCiAgLy8gRGlzYWJsZSB0aGUgaW5wdXQgZWxlbWVudCBzaW5jZSBmdXJ0aGVyIHBpY2tzIGFyZSBub3QgYWxsb3dlZC4KICBpbnB1dEVsZW1lbnQuZGlzYWJsZWQgPSB0cnVlOwoKICBpZiAoIWZpbGVzKSB7CiAgICByZXR1cm4gewogICAgICByZXNwb25zZTogewogICAgICAgIGFjdGlvbjogJ2NvbXBsZXRlJywKICAgICAgfQogICAgfTsKICB9CgogIGZvciAoY29uc3QgZmlsZSBvZiBmaWxlcykgewogICAgY29uc3QgbGkgPSBkb2N1bWVudC5jcmVhdGVFbGVtZW50KCdsaScpOwogICAgbGkuYXBwZW5kKHNwYW4oZmlsZS5uYW1lLCB7Zm9udFdlaWdodDogJ2JvbGQnfSkpOwogICAgbGkuYXBwZW5kKHNwYW4oCiAgICAgICAgYCgke2ZpbGUudHlwZSB8fCAnbi9hJ30pIC0gJHtmaWxlLnNpemV9IGJ5dGVzLCBgICsKICAgICAgICBgbGFzdCBtb2RpZmllZDogJHsKICAgICAgICAgICAgZmlsZS5sYXN0TW9kaWZpZWREYXRlID8gZmlsZS5sYXN0TW9kaWZpZWREYXRlLnRvTG9jYWxlRGF0ZVN0cmluZygpIDoKICAgICAgICAgICAgICAgICAgICAgICAgICAgICAgICAgICAgJ24vYSd9IC0gYCkpOwogICAgY29uc3QgcGVyY2VudCA9IHNwYW4oJzAlIGRvbmUnKTsKICAgIGxpLmFwcGVuZENoaWxkKHBlcmNlbnQpOwoKICAgIG91dHB1dEVsZW1lbnQuYXBwZW5kQ2hpbGQobGkpOwoKICAgIGNvbnN0IGZpbGVEYXRhUHJvbWlzZSA9IG5ldyBQcm9taXNlKChyZXNvbHZlKSA9PiB7CiAgICAgIGNvbnN0IHJlYWRlciA9IG5ldyBGaWxlUmVhZGVyKCk7CiAgICAgIHJlYWRlci5vbmxvYWQgPSAoZSkgPT4gewogICAgICAgIHJlc29sdmUoZS50YXJnZXQucmVzdWx0KTsKICAgICAgfTsKICAgICAgcmVhZGVyLnJlYWRBc0FycmF5QnVmZmVyKGZpbGUpOwogICAgfSk7CiAgICAvLyBXYWl0IGZvciB0aGUgZGF0YSB0byBiZSByZWFkeS4KICAgIGxldCBmaWxlRGF0YSA9IHlpZWxkIHsKICAgICAgcHJvbWlzZTogZmlsZURhdGFQcm9taXNlLAogICAgICByZXNwb25zZTogewogICAgICAgIGFjdGlvbjogJ2NvbnRpbnVlJywKICAgICAgfQogICAgfTsKCiAgICAvLyBVc2UgYSBjaHVua2VkIHNlbmRpbmcgdG8gYXZvaWQgbWVzc2FnZSBzaXplIGxpbWl0cy4gU2VlIGIvNjIxMTU2NjAuCiAgICBsZXQgcG9zaXRpb24gPSAwOwogICAgZG8gewogICAgICBjb25zdCBsZW5ndGggPSBNYXRoLm1pbihmaWxlRGF0YS5ieXRlTGVuZ3RoIC0gcG9zaXRpb24sIE1BWF9QQVlMT0FEX1NJWkUpOwogICAgICBjb25zdCBjaHVuayA9IG5ldyBVaW50OEFycmF5KGZpbGVEYXRhLCBwb3NpdGlvbiwgbGVuZ3RoKTsKICAgICAgcG9zaXRpb24gKz0gbGVuZ3RoOwoKICAgICAgY29uc3QgYmFzZTY0ID0gYnRvYShTdHJpbmcuZnJvbUNoYXJDb2RlLmFwcGx5KG51bGwsIGNodW5rKSk7CiAgICAgIHlpZWxkIHsKICAgICAgICByZXNwb25zZTogewogICAgICAgICAgYWN0aW9uOiAnYXBwZW5kJywKICAgICAgICAgIGZpbGU6IGZpbGUubmFtZSwKICAgICAgICAgIGRhdGE6IGJhc2U2NCwKICAgICAgICB9LAogICAgICB9OwoKICAgICAgbGV0IHBlcmNlbnREb25lID0gZmlsZURhdGEuYnl0ZUxlbmd0aCA9PT0gMCA/CiAgICAgICAgICAxMDAgOgogICAgICAgICAgTWF0aC5yb3VuZCgocG9zaXRpb24gLyBmaWxlRGF0YS5ieXRlTGVuZ3RoKSAqIDEwMCk7CiAgICAgIHBlcmNlbnQudGV4dENvbnRlbnQgPSBgJHtwZXJjZW50RG9uZX0lIGRvbmVgOwoKICAgIH0gd2hpbGUgKHBvc2l0aW9uIDwgZmlsZURhdGEuYnl0ZUxlbmd0aCk7CiAgfQoKICAvLyBBbGwgZG9uZS4KICB5aWVsZCB7CiAgICByZXNwb25zZTogewogICAgICBhY3Rpb246ICdjb21wbGV0ZScsCiAgICB9CiAgfTsKfQoKc2NvcGUuZ29vZ2xlID0gc2NvcGUuZ29vZ2xlIHx8IHt9OwpzY29wZS5nb29nbGUuY29sYWIgPSBzY29wZS5nb29nbGUuY29sYWIgfHwge307CnNjb3BlLmdvb2dsZS5jb2xhYi5fZmlsZXMgPSB7CiAgX3VwbG9hZEZpbGVzLAogIF91cGxvYWRGaWxlc0NvbnRpbnVlLAp9Owp9KShzZWxmKTsK",
       "headers": [
        [
         "content-type",
         "application/javascript"
        ]
       ],
       "ok": true,
       "status": 200,
       "status_text": ""
      }
     }
    },
    "executionInfo": {
     "elapsed": 13836,
     "status": "ok",
     "timestamp": 1646316959372,
     "user": {
      "displayName": "kesydone Roy",
      "photoUrl": "https://lh3.googleusercontent.com/a-/AOh14GgS3NkqGsZslXG93kdC4DR8LFWhum5WA0OglMhzxw=s64",
      "userId": "16868729614995340978"
     },
     "user_tz": -480
    },
    "id": "fmfeOe0bGznF",
    "outputId": "cfcf04e0-6d31-4e81-fea1-fe7aab4b7879"
   },
   "outputs": [
    {
     "name": "stdout",
     "output_type": "stream",
     "text": [
      "mkdir: cannot create directory ‘/home/roykesydone/.kaggle’: File exists\n",
      "Downloading digit-recognizer.zip to /mnt/c/Users/Roykesydone/Desktop/digit\n",
      " 78%|█████████████████████████████▊        | 12.0M/15.3M [00:00<00:00, 30.5MB/s]\n",
      "100%|██████████████████████████████████████| 15.3M/15.3M [00:00<00:00, 38.3MB/s]\n"
     ]
    }
   ],
   "source": [
    "'''\n",
    "get kaggle dataset\n",
    "'''\n",
    "!pip install -q kaggle\n",
    "!mkdir ~/.kaggle\n",
    "!cp kaggle.json ~/.kaggle/\n",
    "!chmod 600 ~/.kaggle/kaggle.json\n",
    "# !kaggle datasets list\n",
    "!kaggle competitions download -c digit-recognizer"
   ]
  },
  {
   "cell_type": "code",
   "execution_count": 6,
   "metadata": {
    "colab": {
     "base_uri": "https://localhost:8080/"
    },
    "executionInfo": {
     "elapsed": 6454,
     "status": "ok",
     "timestamp": 1646326838184,
     "user": {
      "displayName": "kesydone Roy",
      "photoUrl": "https://lh3.googleusercontent.com/a-/AOh14GgS3NkqGsZslXG93kdC4DR8LFWhum5WA0OglMhzxw=s64",
      "userId": "16868729614995340978"
     },
     "user_tz": -480
    },
    "id": "VC4tbVXLIa9p",
    "outputId": "21568644-6a60-4a01-e655-b9f07b53f987"
   },
   "outputs": [
    {
     "name": "stdout",
     "output_type": "stream",
     "text": [
      "Archive:  ./digit-recognizer.zip\n",
      "  inflating: sample_submission.csv   \n",
      "  inflating: test.csv                \n",
      "  inflating: train.csv               \n"
     ]
    }
   ],
   "source": [
    "!unzip ./digit-recognizer.zip"
   ]
  },
  {
   "cell_type": "code",
   "execution_count": 6,
   "metadata": {
    "scrolled": true
   },
   "outputs": [
    {
     "name": "stdout",
     "output_type": "stream",
     "text": [
      "Requirement already satisfied: pandas in c:\\programdata\\anaconda3\\lib\\site-packages (1.3.4)\n",
      "Requirement already satisfied: pytz>=2017.3 in c:\\programdata\\anaconda3\\lib\\site-packages (from pandas) (2021.3)\n",
      "Requirement already satisfied: python-dateutil>=2.7.3 in c:\\programdata\\anaconda3\\lib\\site-packages (from pandas) (2.8.2)\n",
      "Requirement already satisfied: numpy>=1.17.3 in c:\\programdata\\anaconda3\\lib\\site-packages (from pandas) (1.20.3)\n",
      "Requirement already satisfied: six>=1.5 in c:\\programdata\\anaconda3\\lib\\site-packages (from python-dateutil>=2.7.3->pandas) (1.16.0)\n",
      "Requirement already satisfied: numpy in c:\\programdata\\anaconda3\\lib\\site-packages (1.20.3)\n",
      "Requirement already satisfied: matplotlib in c:\\programdata\\anaconda3\\lib\\site-packages (3.4.3)\n",
      "Requirement already satisfied: python-dateutil>=2.7 in c:\\programdata\\anaconda3\\lib\\site-packages (from matplotlib) (2.8.2)\n",
      "Requirement already satisfied: numpy>=1.16 in c:\\programdata\\anaconda3\\lib\\site-packages (from matplotlib) (1.20.3)\n",
      "Requirement already satisfied: kiwisolver>=1.0.1 in c:\\programdata\\anaconda3\\lib\\site-packages (from matplotlib) (1.3.1)\n",
      "Requirement already satisfied: cycler>=0.10 in c:\\programdata\\anaconda3\\lib\\site-packages (from matplotlib) (0.10.0)\n",
      "Requirement already satisfied: pyparsing>=2.2.1 in c:\\programdata\\anaconda3\\lib\\site-packages (from matplotlib) (3.0.4)\n",
      "Requirement already satisfied: pillow>=6.2.0 in c:\\programdata\\anaconda3\\lib\\site-packages (from matplotlib) (8.4.0)\n",
      "Requirement already satisfied: six in c:\\programdata\\anaconda3\\lib\\site-packages (from cycler>=0.10->matplotlib) (1.16.0)\n",
      "Collecting opencv-python\n",
      "  Using cached opencv_python-4.5.5.62-cp36-abi3-win_amd64.whl (35.4 MB)\n",
      "Requirement already satisfied: numpy>=1.17.3 in c:\\programdata\\anaconda3\\lib\\site-packages (from opencv-python) (1.20.3)\n",
      "Installing collected packages: opencv-python\n",
      "Successfully installed opencv-python-4.5.5.62\n"
     ]
    }
   ],
   "source": [
    "!pip install pandas\n",
    "!pip install numpy\n",
    "!pip install matplotlib\n",
    "!pip install opencv-python"
   ]
  },
  {
   "cell_type": "code",
   "execution_count": 14,
   "metadata": {
    "executionInfo": {
     "elapsed": 353,
     "status": "ok",
     "timestamp": 1646326984647,
     "user": {
      "displayName": "kesydone Roy",
      "photoUrl": "https://lh3.googleusercontent.com/a-/AOh14GgS3NkqGsZslXG93kdC4DR8LFWhum5WA0OglMhzxw=s64",
      "userId": "16868729614995340978"
     },
     "user_tz": -480
    },
    "id": "PEq8Q3NYWq6W"
   },
   "outputs": [],
   "source": [
    "def data_preprocessing(data):\n",
    "\n",
    "  NEW_COLUMNS = ['label_'+str(i) for i in range(10)] + ['pixel'+str(i) for i in range(784)]\n",
    "\n",
    "  # print(NEW_COLUMNS)\n",
    "  if 'label' in data.columns:\n",
    "    data = data.join(pd.get_dummies(data.label, prefix=\"label\"))\n",
    "  data = pd.DataFrame(data, columns=NEW_COLUMNS)\n",
    "  data = data.fillna(0)\n",
    "  # print(data.head(1))\n",
    "  return data"
   ]
  },
  {
   "cell_type": "code",
   "execution_count": 15,
   "metadata": {
    "colab": {
     "base_uri": "https://localhost:8080/"
    },
    "executionInfo": {
     "elapsed": 2861,
     "status": "ok",
     "timestamp": 1646326988030,
     "user": {
      "displayName": "kesydone Roy",
      "photoUrl": "https://lh3.googleusercontent.com/a-/AOh14GgS3NkqGsZslXG93kdC4DR8LFWhum5WA0OglMhzxw=s64",
      "userId": "16868729614995340978"
     },
     "user_tz": -480
    },
    "id": "Yrl3y8wSJQ1h",
    "outputId": "3f46250d-9acd-4c98-c09b-5f2a7a651eea"
   },
   "outputs": [
    {
     "name": "stdout",
     "output_type": "stream",
     "text": [
      "   label  pixel0  pixel1  pixel2  pixel3  pixel4  pixel5  pixel6  pixel7  \\\n",
      "0      1       0       0       0       0       0       0       0       0   \n",
      "1      0       0       0       0       0       0       0       0       0   \n",
      "2      1       0       0       0       0       0       0       0       0   \n",
      "\n",
      "   pixel8  ...  pixel774  pixel775  pixel776  pixel777  pixel778  pixel779  \\\n",
      "0       0  ...         0         0         0         0         0         0   \n",
      "1       0  ...         0         0         0         0         0         0   \n",
      "2       0  ...         0         0         0         0         0         0   \n",
      "\n",
      "   pixel780  pixel781  pixel782  pixel783  \n",
      "0         0         0         0         0  \n",
      "1         0         0         0         0  \n",
      "2         0         0         0         0  \n",
      "\n",
      "[3 rows x 785 columns]\n",
      "28.0\n"
     ]
    }
   ],
   "source": [
    "'''\n",
    "確認資料格式\n",
    "'''\n",
    "import pandas as pd\n",
    "import numpy as np\n",
    "import math\n",
    "import matplotlib.pyplot as plt\n",
    "\n",
    "\n",
    "data = pd.read_csv('train.csv')\n",
    "print(data[:3])\n",
    "print(math.sqrt(784))\n",
    "\n",
    "# data = data_preprocessing(data)"
   ]
  },
  {
   "cell_type": "code",
   "execution_count": 17,
   "metadata": {
    "colab": {
     "base_uri": "https://localhost:8080/"
    },
    "executionInfo": {
     "elapsed": 475,
     "status": "ok",
     "timestamp": 1646326988501,
     "user": {
      "displayName": "kesydone Roy",
      "photoUrl": "https://lh3.googleusercontent.com/a-/AOh14GgS3NkqGsZslXG93kdC4DR8LFWhum5WA0OglMhzxw=s64",
      "userId": "16868729614995340978"
     },
     "user_tz": -480
    },
    "id": "aj_86SSlLXL9",
    "outputId": "863dafb2-bd8b-470c-eac1-82c8931c1a66"
   },
   "outputs": [
    {
     "name": "stdout",
     "output_type": "stream",
     "text": [
      "       pixel0  pixel1  pixel2  pixel3  pixel4  pixel5  pixel6  pixel7  pixel8  \\\n",
      "39708       0       0       0       0       0       0       0       0       0   \n",
      "40011       0       0       0       0       0       0       0       0       0   \n",
      "40531       0       0       0       0       0       0       0       0       0   \n",
      "33023       0       0       0       0       0       0       0       0       0   \n",
      "40364       0       0       0       0       0       0       0       0       0   \n",
      "...       ...     ...     ...     ...     ...     ...     ...     ...     ...   \n",
      "27999       0       0       0       0       0       0       0       0       0   \n",
      "15970       0       0       0       0       0       0       0       0       0   \n",
      "32479       0       0       0       0       0       0       0       0       0   \n",
      "14226       0       0       0       0       0       0       0       0       0   \n",
      "25530       0       0       0       0       0       0       0       0       0   \n",
      "\n",
      "       pixel9  ...  pixel774  pixel775  pixel776  pixel777  pixel778  \\\n",
      "39708       0  ...         0         0         0         0         0   \n",
      "40011       0  ...         0         0         0         0         0   \n",
      "40531       0  ...         0         0         0         0         0   \n",
      "33023       0  ...         0         0         0         0         0   \n",
      "40364       0  ...         0         0         0         0         0   \n",
      "...       ...  ...       ...       ...       ...       ...       ...   \n",
      "27999       0  ...         0         0         0         0         0   \n",
      "15970       0  ...         0         0         0         0         0   \n",
      "32479       0  ...         0         0         0         0         0   \n",
      "14226       0  ...         0         0         0         0         0   \n",
      "25530       0  ...         0         0         0         0         0   \n",
      "\n",
      "       pixel779  pixel780  pixel781  pixel782  pixel783  \n",
      "39708         0         0         0         0         0  \n",
      "40011         0         0         0         0         0  \n",
      "40531         0         0         0         0         0  \n",
      "33023         0         0         0         0         0  \n",
      "40364         0         0         0         0         0  \n",
      "...         ...       ...       ...       ...       ...  \n",
      "27999         0         0         0         0         0  \n",
      "15970         0         0         0         0         0  \n",
      "32479         0         0         0         0         0  \n",
      "14226         0         0         0         0         0  \n",
      "25530         0         0         0         0         0  \n",
      "\n",
      "[29400 rows x 784 columns]\n",
      "39708    1\n",
      "40011    9\n",
      "40531    3\n",
      "33023    9\n",
      "40364    4\n",
      "        ..\n",
      "27999    7\n",
      "15970    6\n",
      "32479    7\n",
      "14226    4\n",
      "25530    7\n",
      "Name: label, Length: 29400, dtype: int64\n"
     ]
    }
   ],
   "source": [
    "'''\n",
    "分離出 train, valid 的輸入輸出\n",
    "'''\n",
    "\n",
    "train = data.sample(frac=0.7,random_state=12345)\n",
    "valid = data.drop(train.index)\n",
    "\n",
    "# label_columns = ['label_'+str(i) for i in range(10)]\n",
    "\n",
    "# train_x = train.drop(labels=label_columns,axis=1)\n",
    "train_x = train.drop(labels=['label'],axis=1)\n",
    "# train_y = train[label_columns]\n",
    "train_y = train['label']\n",
    "# valid_x = valid.drop(labels=label_columns,axis=1)\n",
    "valid_x = valid.drop(labels=['label'],axis=1)\n",
    "# valid_y = valid[label_columns]\n",
    "valid_y = valid['label']\n",
    "print(train_x)\n",
    "print(train_y)"
   ]
  },
  {
   "cell_type": "code",
   "execution_count": 18,
   "metadata": {
    "colab": {
     "base_uri": "https://localhost:8080/",
     "height": 297
    },
    "executionInfo": {
     "elapsed": 1677,
     "status": "ok",
     "timestamp": 1646326990551,
     "user": {
      "displayName": "kesydone Roy",
      "photoUrl": "https://lh3.googleusercontent.com/a-/AOh14GgS3NkqGsZslXG93kdC4DR8LFWhum5WA0OglMhzxw=s64",
      "userId": "16868729614995340978"
     },
     "user_tz": -480
    },
    "id": "jOKQQZXZJt3E",
    "outputId": "b0373d67-ed2f-4bbc-8aef-0d86aa977c07"
   },
   "outputs": [
    {
     "name": "stdout",
     "output_type": "stream",
     "text": [
      "(29400, 784)\n",
      "int32\n"
     ]
    },
    {
     "data": {
      "text/plain": [
       "<Figure size 432x288 with 0 Axes>"
      ]
     },
     "metadata": {},
     "output_type": "display_data"
    },
    {
     "data": {
      "image/png": "[encoded data removed]",
      "text/plain": [
       "<Figure size 432x288 with 4 Axes>"
      ]
     },
     "metadata": {
      "needs_background": "light"
     },
     "output_type": "display_data"
    },
    {
     "name": "stdout",
     "output_type": "stream",
     "text": [
      "39708    1\n",
      "40011    9\n",
      "40531    3\n",
      "33023    9\n",
      "Name: label, dtype: int64\n"
     ]
    }
   ],
   "source": [
    "import numpy as np\n",
    "from matplotlib import pyplot as plt\n",
    "import cv2\n",
    "\n",
    "train_x_nd = np.array(train_x.values.tolist(), dtype=int)\n",
    "\n",
    "print(train_x_nd.shape)\n",
    "print(train_x_nd.dtype)\n",
    "train_x_nd = train_x_nd.reshape(train_x_nd.shape[0], 28, 28)\n",
    "train_x_nd = np.expand_dims(train_x_nd, axis=1)\n",
    "images = train_x_nd.astype(np.uint8)\n",
    "plt.figure()\n",
    "f, axarr = plt.subplots(1,4) \n",
    "for i in range(4):\n",
    "  axarr[i].imshow(images[i][0])\n",
    "plt.show()\n",
    "print(train_y.head(4))"
   ]
  },
  {
   "cell_type": "code",
   "execution_count": 19,
   "metadata": {
    "colab": {
     "base_uri": "https://localhost:8080/"
    },
    "executionInfo": {
     "elapsed": 476,
     "status": "ok",
     "timestamp": 1646326991022,
     "user": {
      "displayName": "kesydone Roy",
      "photoUrl": "https://lh3.googleusercontent.com/a-/AOh14GgS3NkqGsZslXG93kdC4DR8LFWhum5WA0OglMhzxw=s64",
      "userId": "16868729614995340978"
     },
     "user_tz": -480
    },
    "id": "7-8b9poPO_g9",
    "outputId": "1a92d777-d82d-45e4-979f-a4644ee83174"
   },
   "outputs": [
    {
     "name": "stdout",
     "output_type": "stream",
     "text": [
      "1.9.0+cu111\n",
      "True\n"
     ]
    }
   ],
   "source": [
    "import torch\n",
    "from torch import nn\n",
    "from torch.utils.data import TensorDataset, DataLoader\n",
    "print(torch.__version__)\n",
    "print(torch.cuda.is_available())"
   ]
  },
  {
   "cell_type": "code",
   "execution_count": 20,
   "metadata": {
    "executionInfo": {
     "elapsed": 10,
     "status": "ok",
     "timestamp": 1646326991023,
     "user": {
      "displayName": "kesydone Roy",
      "photoUrl": "https://lh3.googleusercontent.com/a-/AOh14GgS3NkqGsZslXG93kdC4DR8LFWhum5WA0OglMhzxw=s64",
      "userId": "16868729614995340978"
     },
     "user_tz": -480
    },
    "id": "el8eTe2TOyEK"
   },
   "outputs": [],
   "source": [
    "class CNN(nn.Module):\n",
    "  def __init__(self):\n",
    "    super().__init__()\n",
    "    self.net = nn.Sequential(\n",
    "        nn.Conv2d(in_channels=1, out_channels=16, kernel_size=3, stride=1, padding=1), #(16,28,28)\n",
    "        nn.BatchNorm2d(16),\n",
    "        nn.ReLU(),\n",
    "        nn.Conv2d(in_channels=16, out_channels=16, kernel_size=3, stride=1, padding=1), #(16,28,28)\n",
    "        nn.BatchNorm2d(16),\n",
    "        nn.ReLU(),\n",
    "        nn.Conv2d(in_channels=16, out_channels=16, kernel_size=3, stride=1, padding=1), #(16,28,28)\n",
    "        nn.BatchNorm2d(16),\n",
    "        nn.ReLU(),\n",
    "        nn.MaxPool2d(kernel_size=2), #(16,14,14)\n",
    "        nn.Conv2d(in_channels=16, out_channels=8, kernel_size=3, stride=1, padding=1), #(8,14,14)\n",
    "        nn.BatchNorm2d(8),\n",
    "        nn.ReLU(),\n",
    "        nn.Conv2d(in_channels=8, out_channels=8, kernel_size=3, stride=1, padding=1), #(8,14,14)\n",
    "        nn.BatchNorm2d(8),\n",
    "        nn.ReLU(),\n",
    "        nn.MaxPool2d(kernel_size=2), #(8,7,7)\n",
    "        nn.Flatten(1, -1), #start_dim, end_dim\n",
    "        nn.Linear(392, 16), #392 = 8*7*7\n",
    "        # nn.BatchNorm1d(16),\n",
    "        nn.ReLU(),\n",
    "        nn.Linear(16, 10),\n",
    "        nn.Softmax(dim=1)\n",
    "    )\n",
    "\n",
    "  def forward(self, input):\n",
    "    out = self.net(input)\n",
    "    # print(out[0])\n",
    "    return out"
   ]
  },
  {
   "cell_type": "code",
   "execution_count": 21,
   "metadata": {
    "colab": {
     "base_uri": "https://localhost:8080/"
    },
    "executionInfo": {
     "elapsed": 9,
     "status": "ok",
     "timestamp": 1646326991023,
     "user": {
      "displayName": "kesydone Roy",
      "photoUrl": "https://lh3.googleusercontent.com/a-/AOh14GgS3NkqGsZslXG93kdC4DR8LFWhum5WA0OglMhzxw=s64",
      "userId": "16868729614995340978"
     },
     "user_tz": -480
    },
    "id": "ZCWWBtm9QkoI",
    "outputId": "a9ca0d4f-d57f-4bb3-98ce-c7b9a61b1dc8",
    "scrolled": true
   },
   "outputs": [
    {
     "name": "stdout",
     "output_type": "stream",
     "text": [
      "device:  cuda:0\n",
      "torch.Size([2, 10])\n"
     ]
    }
   ],
   "source": [
    "model = CNN()\n",
    "device = torch.device(\"cuda:0\" if torch.cuda.is_available() else \"cpu\")\n",
    "print('device: ',device)\n",
    "model.to(device)\n",
    "train_x_tensor = torch.tensor(train_x_nd, dtype=torch.float).to(device)\n",
    "\n",
    "print(model(train_x_tensor[:2,:,:,:]).shape)"
   ]
  },
  {
   "cell_type": "code",
   "execution_count": 22,
   "metadata": {
    "executionInfo": {
     "elapsed": 7,
     "status": "ok",
     "timestamp": 1646326991024,
     "user": {
      "displayName": "kesydone Roy",
      "photoUrl": "https://lh3.googleusercontent.com/a-/AOh14GgS3NkqGsZslXG93kdC4DR8LFWhum5WA0OglMhzxw=s64",
      "userId": "16868729614995340978"
     },
     "user_tz": -480
    },
    "id": "HV1j8H2uWVXE"
   },
   "outputs": [],
   "source": [
    "'''\n",
    "hyperparameters\n",
    "'''\n",
    "epochs = 100\n",
    "learning_rate = 0.0001 \n",
    "batch_size = 8\n",
    "optimizer = torch.optim.Adam(model.parameters(), lr=learning_rate) \n",
    "criterion = nn.CrossEntropyLoss()"
   ]
  },
  {
   "cell_type": "code",
   "execution_count": 29,
   "metadata": {
    "colab": {
     "base_uri": "https://localhost:8080/"
    },
    "id": "ZtjcQV5GbmFF",
    "outputId": "119a1900-227b-4277-be66-25358f247f00"
   },
   "outputs": [
    {
     "name": "stdout",
     "output_type": "stream",
     "text": [
      "torch.Size([29400, 1, 28, 28])\n",
      "epoches:  0 loss:  1.749105453491211\n",
      "valid - epoches:  0 loss:  1.493867039680481\n",
      "Accuracy in valid set:  97.45238095238096%\n",
      "epoches:  1 loss:  1.46249258518219\n",
      "valid - epoches:  1 loss:  1.486555576324463\n",
      "Accuracy in valid set:  97.88095238095238%\n",
      "epoches:  2 loss:  1.5952153205871582\n",
      "valid - epoches:  2 loss:  1.4846515655517578\n",
      "Accuracy in valid set:  97.95238095238096%\n",
      "epoches:  3 loss:  1.4614601135253906\n",
      "valid - epoches:  3 loss:  1.4844199419021606\n",
      "Accuracy in valid set:  97.97619047619047%\n",
      "epoches:  4 loss:  1.5014846324920654\n",
      "valid - epoches:  4 loss:  1.4804311990737915\n",
      "Accuracy in valid set:  98.34126984126983%\n",
      "epoches:  5 loss:  1.4613077640533447\n",
      "valid - epoches:  5 loss:  1.480668067932129\n",
      "Accuracy in valid set:  98.29365079365078%\n",
      "epoches:  6 loss:  1.463773250579834\n",
      "valid - epoches:  6 loss:  1.4797059297561646\n",
      "Accuracy in valid set:  98.38095238095238%\n",
      "epoches:  7 loss:  1.4616856575012207\n",
      "valid - epoches:  7 loss:  1.4788811206817627\n",
      "Accuracy in valid set:  98.4126984126984%\n",
      "epoches:  8 loss:  1.4662625789642334\n",
      "valid - epoches:  8 loss:  1.4785698652267456\n",
      "Accuracy in valid set:  98.38888888888889%\n",
      "epoches:  9 loss:  1.4611568450927734\n",
      "valid - epoches:  9 loss:  1.480536699295044\n",
      "Accuracy in valid set:  98.1984126984127%\n",
      "epoches:  10 loss:  1.4611554145812988\n",
      "valid - epoches:  10 loss:  1.4779152870178223\n",
      "Accuracy in valid set:  98.55555555555556%\n",
      "epoches:  11 loss:  1.4613746404647827\n",
      "valid - epoches:  11 loss:  1.478415846824646\n",
      "Accuracy in valid set:  98.51587301587301%\n",
      "epoches:  12 loss:  1.4623311758041382\n",
      "valid - epoches:  12 loss:  1.4780362844467163\n",
      "Accuracy in valid set:  98.51587301587301%\n",
      "epoches:  13 loss:  1.4651633501052856\n",
      "valid - epoches:  13 loss:  1.4782377481460571\n",
      "Accuracy in valid set:  98.38888888888889%\n",
      "epoches:  14 loss:  1.4637224674224854\n",
      "valid - epoches:  14 loss:  1.4772603511810303\n",
      "Accuracy in valid set:  98.56349206349206%\n",
      "epoches:  15 loss:  1.4611517190933228\n",
      "valid - epoches:  15 loss:  1.4767221212387085\n",
      "Accuracy in valid set:  98.57142857142858%\n",
      "epoches:  16 loss:  1.4653300046920776\n",
      "valid - epoches:  16 loss:  1.477029800415039\n",
      "Accuracy in valid set:  98.43650793650794%\n",
      "epoches:  17 loss:  1.4612641334533691\n",
      "valid - epoches:  17 loss:  1.4778988361358643\n",
      "Accuracy in valid set:  98.46031746031746%\n",
      "epoches:  18 loss:  1.4618496894836426\n",
      "valid - epoches:  18 loss:  1.4756531715393066\n",
      "Accuracy in valid set:  98.68253968253968%\n",
      "epoches:  19 loss:  1.4614849090576172\n",
      "valid - epoches:  19 loss:  1.4755350351333618\n",
      "Accuracy in valid set:  98.64285714285714%\n",
      "epoches:  20 loss:  1.462145209312439\n",
      "valid - epoches:  20 loss:  1.4755924940109253\n",
      "Accuracy in valid set:  98.68253968253968%\n",
      "epoches:  21 loss:  1.46117103099823\n",
      "valid - epoches:  21 loss:  1.476606845855713\n",
      "Accuracy in valid set:  98.56349206349206%\n",
      "epoches:  22 loss:  1.4611531496047974\n",
      "valid - epoches:  22 loss:  1.4744116067886353\n",
      "Accuracy in valid set:  98.76984126984128%\n",
      "epoches:  23 loss:  1.4611762762069702\n",
      "valid - epoches:  23 loss:  1.4760288000106812\n",
      "Accuracy in valid set:  98.62698412698413%\n",
      "epoches:  24 loss:  1.4612129926681519\n",
      "valid - epoches:  24 loss:  1.474389910697937\n",
      "Accuracy in valid set:  98.78571428571429%\n",
      "epoches:  25 loss:  1.4611570835113525\n",
      "valid - epoches:  25 loss:  1.4744224548339844\n",
      "Accuracy in valid set:  98.73809523809524%\n",
      "epoches:  26 loss:  1.4611502885818481\n",
      "valid - epoches:  26 loss:  1.4748845100402832\n",
      "Accuracy in valid set:  98.68253968253968%\n",
      "epoches:  27 loss:  1.4611704349517822\n",
      "valid - epoches:  27 loss:  1.4752209186553955\n",
      "Accuracy in valid set:  98.65873015873015%\n",
      "epoches:  28 loss:  1.4629685878753662\n",
      "valid - epoches:  28 loss:  1.4753631353378296\n",
      "Accuracy in valid set:  98.62698412698413%\n",
      "epoches:  29 loss:  1.4611507654190063\n",
      "valid - epoches:  29 loss:  1.4748941659927368\n",
      "Accuracy in valid set:  98.68253968253968%\n",
      "epoches:  30 loss:  1.4693936109542847\n",
      "valid - epoches:  30 loss:  1.4749364852905273\n",
      "Accuracy in valid set:  98.7063492063492%\n",
      "epoches:  31 loss:  1.4611554145812988\n",
      "valid - epoches:  31 loss:  1.473827838897705\n",
      "Accuracy in valid set:  98.79365079365078%\n",
      "epoches:  32 loss:  1.4611519575119019\n",
      "valid - epoches:  32 loss:  1.473993182182312\n",
      "Accuracy in valid set:  98.77777777777777%\n",
      "epoches:  33 loss:  1.461154818534851\n",
      "valid - epoches:  33 loss:  1.475103735923767\n",
      "Accuracy in valid set:  98.7063492063492%\n",
      "epoches:  34 loss:  1.4611502885818481\n",
      "valid - epoches:  34 loss:  1.474724292755127\n",
      "Accuracy in valid set:  98.6984126984127%\n",
      "epoches:  35 loss:  1.461159348487854\n",
      "valid - epoches:  35 loss:  1.475450038909912\n",
      "Accuracy in valid set:  98.62698412698413%\n",
      "epoches:  36 loss:  1.4634546041488647\n",
      "valid - epoches:  36 loss:  1.4743179082870483\n",
      "Accuracy in valid set:  98.75396825396825%\n",
      "epoches:  37 loss:  1.4611505270004272\n",
      "valid - epoches:  37 loss:  1.4747357368469238\n",
      "Accuracy in valid set:  98.71428571428571%\n",
      "epoches:  38 loss:  1.5845783948898315\n",
      "valid - epoches:  38 loss:  1.474094271659851\n",
      "Accuracy in valid set:  98.73809523809524%\n",
      "epoches:  39 loss:  1.4611502885818481\n",
      "valid - epoches:  39 loss:  1.4739110469818115\n",
      "Accuracy in valid set:  98.75396825396825%\n",
      "epoches:  40 loss:  1.4611504077911377\n",
      "valid - epoches:  40 loss:  1.4747189283370972\n",
      "Accuracy in valid set:  98.65079365079366%\n",
      "epoches:  41 loss:  1.461156964302063\n",
      "valid - epoches:  41 loss:  1.4751183986663818\n",
      "Accuracy in valid set:  98.67460317460316%\n",
      "epoches:  42 loss:  1.461159348487854\n",
      "valid - epoches:  42 loss:  1.474492073059082\n",
      "Accuracy in valid set:  98.73015873015873%\n",
      "epoches:  43 loss:  1.4616230726242065\n",
      "valid - epoches:  43 loss:  1.4736251831054688\n",
      "Accuracy in valid set:  98.81746031746032%\n",
      "epoches:  44 loss:  1.461172342300415\n",
      "valid - epoches:  44 loss:  1.4747215509414673\n",
      "Accuracy in valid set:  98.65873015873015%\n",
      "epoches:  45 loss:  1.4615142345428467\n",
      "valid - epoches:  45 loss:  1.474304437637329\n",
      "Accuracy in valid set:  98.71428571428571%\n",
      "epoches:  46 loss:  1.4611613750457764\n",
      "valid - epoches:  46 loss:  1.4756728410720825\n",
      "Accuracy in valid set:  98.60317460317461%\n",
      "epoches:  47 loss:  1.4646977186203003\n",
      "valid - epoches:  47 loss:  1.47400963306427\n",
      "Accuracy in valid set:  98.81746031746032%\n",
      "epoches:  48 loss:  1.4611502885818481\n",
      "valid - epoches:  48 loss:  1.475264310836792\n",
      "Accuracy in valid set:  98.61904761904762%\n",
      "epoches:  49 loss:  1.4611504077911377\n",
      "valid - epoches:  49 loss:  1.4745627641677856\n",
      "Accuracy in valid set:  98.68253968253968%\n",
      "epoches:  50 loss:  1.4623662233352661\n",
      "valid - epoches:  50 loss:  1.4737077951431274\n",
      "Accuracy in valid set:  98.74603174603175%\n",
      "epoches:  51 loss:  1.461152195930481\n",
      "valid - epoches:  51 loss:  1.476405143737793\n",
      "Accuracy in valid set:  98.53174603174604%\n",
      "epoches:  52 loss:  1.4611502885818481\n",
      "valid - epoches:  52 loss:  1.4738671779632568\n",
      "Accuracy in valid set:  98.8015873015873%\n",
      "epoches:  53 loss:  1.4611502885818481\n",
      "valid - epoches:  53 loss:  1.474259376525879\n",
      "Accuracy in valid set:  98.76984126984128%\n",
      "epoches:  54 loss:  1.4611502885818481\n",
      "valid - epoches:  54 loss:  1.4762121438980103\n",
      "Accuracy in valid set:  98.54761904761905%\n",
      "epoches:  55 loss:  1.461151123046875\n",
      "valid - epoches:  55 loss:  1.4780726432800293\n",
      "Accuracy in valid set:  98.36507936507937%\n",
      "epoches:  56 loss:  1.4737145900726318\n",
      "valid - epoches:  56 loss:  1.472962737083435\n",
      "Accuracy in valid set:  98.84920634920636%\n",
      "epoches:  57 loss:  1.4611505270004272\n",
      "valid - epoches:  57 loss:  1.4730439186096191\n",
      "Accuracy in valid set:  98.85714285714286%\n",
      "epoches:  58 loss:  1.4614145755767822\n",
      "valid - epoches:  58 loss:  1.4731872081756592\n",
      "Accuracy in valid set:  98.84126984126983%\n",
      "epoches:  59 loss:  1.4611502885818481\n",
      "valid - epoches:  59 loss:  1.4731166362762451\n",
      "Accuracy in valid set:  98.84920634920636%\n",
      "epoches:  60 loss:  1.4611502885818481\n",
      "valid - epoches:  60 loss:  1.473067045211792\n",
      "Accuracy in valid set:  98.80952380952381%\n",
      "epoches:  61 loss:  1.4611507654190063\n",
      "valid - epoches:  61 loss:  1.4733082056045532\n",
      "Accuracy in valid set:  98.82539682539682%\n",
      "epoches:  62 loss:  1.4611623287200928\n",
      "valid - epoches:  62 loss:  1.47283136844635\n",
      "Accuracy in valid set:  98.88888888888889%\n",
      "epoches:  63 loss:  1.4611502885818481\n",
      "valid - epoches:  63 loss:  1.4746613502502441\n",
      "Accuracy in valid set:  98.69047619047619%\n"
     ]
    },
    {
     "name": "stdout",
     "output_type": "stream",
     "text": [
      "epoches:  64 loss:  1.4611502885818481\n",
      "valid - epoches:  64 loss:  1.4740936756134033\n",
      "Accuracy in valid set:  98.76984126984128%\n",
      "epoches:  65 loss:  1.4611502885818481\n",
      "valid - epoches:  65 loss:  1.4760185480117798\n",
      "Accuracy in valid set:  98.5%\n",
      "epoches:  66 loss:  1.4611579179763794\n",
      "valid - epoches:  66 loss:  1.4738227128982544\n",
      "Accuracy in valid set:  98.77777777777777%\n",
      "epoches:  67 loss:  1.4611752033233643\n",
      "valid - epoches:  67 loss:  1.473443865776062\n",
      "Accuracy in valid set:  98.78571428571429%\n",
      "epoches:  68 loss:  1.4611519575119019\n",
      "valid - epoches:  68 loss:  1.4731249809265137\n",
      "Accuracy in valid set:  98.79365079365078%\n",
      "epoches:  69 loss:  1.4611502885818481\n",
      "valid - epoches:  69 loss:  1.4745895862579346\n",
      "Accuracy in valid set:  98.65873015873015%\n",
      "epoches:  70 loss:  1.5045742988586426\n",
      "valid - epoches:  70 loss:  1.4739868640899658\n",
      "Accuracy in valid set:  98.76984126984128%\n",
      "epoches:  71 loss:  1.4611502885818481\n",
      "valid - epoches:  71 loss:  1.4743114709854126\n",
      "Accuracy in valid set:  98.71428571428571%\n",
      "epoches:  72 loss:  1.4611504077911377\n",
      "valid - epoches:  72 loss:  1.473055124282837\n",
      "Accuracy in valid set:  98.81746031746032%\n",
      "epoches:  73 loss:  1.4611506462097168\n",
      "valid - epoches:  73 loss:  1.472961664199829\n",
      "Accuracy in valid set:  98.82539682539682%\n",
      "epoches:  74 loss:  1.4611502885818481\n",
      "valid - epoches:  74 loss:  1.4740198850631714\n",
      "Accuracy in valid set:  98.73809523809524%\n",
      "epoches:  75 loss:  1.4611502885818481\n",
      "valid - epoches:  75 loss:  1.474163293838501\n",
      "Accuracy in valid set:  98.73809523809524%\n",
      "epoches:  76 loss:  1.4611502885818481\n",
      "valid - epoches:  76 loss:  1.477340817451477\n",
      "Accuracy in valid set:  98.46825396825398%\n",
      "epoches:  77 loss:  1.4611502885818481\n",
      "valid - epoches:  77 loss:  1.4739152193069458\n",
      "Accuracy in valid set:  98.78571428571429%\n",
      "epoches:  78 loss:  1.4611543416976929\n",
      "valid - epoches:  78 loss:  1.4736384153366089\n",
      "Accuracy in valid set:  98.77777777777777%\n",
      "epoches:  79 loss:  1.4612045288085938\n",
      "valid - epoches:  79 loss:  1.4737064838409424\n",
      "Accuracy in valid set:  98.75396825396825%\n",
      "epoches:  80 loss:  1.4611502885818481\n",
      "valid - epoches:  80 loss:  1.4746726751327515\n",
      "Accuracy in valid set:  98.66666666666667%\n",
      "epoches:  81 loss:  1.4611502885818481\n",
      "valid - epoches:  81 loss:  1.473599910736084\n",
      "Accuracy in valid set:  98.79365079365078%\n",
      "epoches:  82 loss:  1.4611529111862183\n",
      "valid - epoches:  82 loss:  1.4734326601028442\n",
      "Accuracy in valid set:  98.83333333333333%\n",
      "epoches:  83 loss:  1.4611502885818481\n",
      "valid - epoches:  83 loss:  1.473576545715332\n",
      "Accuracy in valid set:  98.74603174603175%\n",
      "epoches:  84 loss:  1.4611518383026123\n",
      "valid - epoches:  84 loss:  1.4741367101669312\n",
      "Accuracy in valid set:  98.73809523809524%\n",
      "epoches:  85 loss:  1.4611506462097168\n",
      "valid - epoches:  85 loss:  1.4731857776641846\n",
      "Accuracy in valid set:  98.80952380952381%\n",
      "epoches:  86 loss:  1.4611505270004272\n",
      "valid - epoches:  86 loss:  1.47306489944458\n",
      "Accuracy in valid set:  98.82539682539682%\n",
      "epoches:  87 loss:  1.4617019891738892\n",
      "valid - epoches:  87 loss:  1.4734742641448975\n",
      "Accuracy in valid set:  98.78571428571429%\n",
      "epoches:  88 loss:  1.4611892700195312\n",
      "valid - epoches:  88 loss:  1.4731563329696655\n",
      "Accuracy in valid set:  98.81746031746032%\n",
      "epoches:  89 loss:  1.4611502885818481\n",
      "valid - epoches:  89 loss:  1.4736080169677734\n",
      "Accuracy in valid set:  98.77777777777777%\n",
      "epoches:  90 loss:  1.5861492156982422\n",
      "valid - epoches:  90 loss:  1.4746583700180054\n",
      "Accuracy in valid set:  98.63492063492063%\n",
      "epoches:  91 loss:  1.4611502885818481\n",
      "valid - epoches:  91 loss:  1.4734822511672974\n",
      "Accuracy in valid set:  98.76190476190476%\n",
      "epoches:  92 loss:  1.4611531496047974\n",
      "valid - epoches:  92 loss:  1.4737977981567383\n",
      "Accuracy in valid set:  98.76190476190476%\n",
      "epoches:  93 loss:  1.4611502885818481\n",
      "valid - epoches:  93 loss:  1.4732928276062012\n",
      "Accuracy in valid set:  98.8015873015873%\n",
      "epoches:  94 loss:  1.4611502885818481\n",
      "valid - epoches:  94 loss:  1.4733072519302368\n",
      "Accuracy in valid set:  98.81746031746032%\n",
      "epoches:  95 loss:  1.4611504077911377\n",
      "valid - epoches:  95 loss:  1.4737752676010132\n",
      "Accuracy in valid set:  98.73809523809524%\n",
      "epoches:  96 loss:  1.4611502885818481\n",
      "valid - epoches:  96 loss:  1.474029779434204\n",
      "Accuracy in valid set:  98.69047619047619%\n",
      "epoches:  97 loss:  1.4611502885818481\n",
      "valid - epoches:  97 loss:  1.473623514175415\n",
      "Accuracy in valid set:  98.77777777777777%\n",
      "epoches:  98 loss:  1.4611502885818481\n",
      "valid - epoches:  98 loss:  1.4742021560668945\n",
      "Accuracy in valid set:  98.71428571428571%\n",
      "epoches:  99 loss:  1.4620020389556885\n",
      "valid - epoches:  99 loss:  1.4755902290344238\n",
      "Accuracy in valid set:  98.5873015873016%\n",
      "best loss in valid:  1.47283136844635\n",
      "It's accuracy:  98.88888888888889\n"
     ]
    }
   ],
   "source": [
    "\n",
    "train_inputs = torch.tensor(train_x.values.tolist(), dtype=torch.float32).to(device)\n",
    "\n",
    "train_inputs = torch.reshape(train_inputs, (train_inputs.shape[0], 28, 28))\n",
    "train_inputs = torch.unsqueeze(train_inputs, dim=1)\n",
    "\n",
    "train_labels = torch.tensor(train_y.values.tolist(), dtype=torch.float32).to(device)\n",
    "# train_labels = tensor_to_one_hot(train_labels, 2, device)\n",
    "\n",
    "\n",
    "valid_inputs = torch.tensor(valid_x.values.tolist(), dtype=torch.float32).to(device)\n",
    "\n",
    "valid_inputs = torch.reshape(valid_inputs, (valid_inputs.shape[0], 28, 28))\n",
    "valid_inputs = torch.unsqueeze(valid_inputs, dim=1)\n",
    "\n",
    "\n",
    "valid_labels = torch.tensor(valid_y.values.tolist(), dtype=torch.float32).to(device)\n",
    "# valid_labels = tensor_to_one_hot(valid_labels, 2, device)\n",
    "\n",
    "print(train_inputs.shape)\n",
    "\n",
    "train_dataset = TensorDataset(train_inputs, train_labels)\n",
    "trainLoader = DataLoader(train_dataset, batch_size=batch_size, shuffle=True, num_workers=0)\n",
    "\n",
    "\n",
    "best_loss = 1000000000\n",
    "best_accuracy = 0 \n",
    "\n",
    "for epoch_index, epoch in enumerate(range(epochs), 0):\n",
    "  model.train()\n",
    "  for i, batch in enumerate(trainLoader, 0):\n",
    "    inputs, labels = batch\n",
    "\n",
    "    # print(inputs.shape)\n",
    "\n",
    "    optimizer.zero_grad() \n",
    "    outputs = model(inputs) \n",
    "    \n",
    "#     print(outputs.dtype)\n",
    "#     print(labels.dtype)\n",
    "    \n",
    "    loss = criterion(outputs, labels.long())\n",
    "    loss.backward() \n",
    "    optimizer.step() \n",
    "\n",
    "    \n",
    "  if  epoch_index % 1 == 0:\n",
    "    print(\"epoches: \", epoch_index, \"loss: \", loss.item())\n",
    "    model.eval()\n",
    "    with torch.no_grad():\n",
    "      outputs = model(valid_inputs)\n",
    "      loss = criterion(outputs, valid_labels.long())\n",
    "      if loss < best_loss:\n",
    "        best_loss = loss\n",
    "        torch.save(model.state_dict(), \"model.pk1\") \n",
    "        _, predicted = torch.max(outputs, 1)\n",
    "#         _, ans = torch.max(valid_labels, 1)\n",
    "        best_accuracy = ((predicted==valid_labels).sum().item()) / valid_labels.shape[0] * 100 \n",
    "        \n",
    "        \n",
    "      print(\"valid - epoches: \", epoch_index, \"loss: \", loss.item())\n",
    "      _, predicted = torch.max(outputs, 1)\n",
    "#       _, ans = torch.max(valid_labels, 1)\n",
    "      print('Accuracy in valid set: ', str(((predicted==valid_labels).sum().item()) / valid_labels.shape[0] * 100)+ '%')\n",
    "\n",
    "print('best loss in valid: ', best_loss.item())\n",
    "print('It\\'s accuracy: ',best_accuracy) "
   ]
  },
  {
   "cell_type": "code",
   "execution_count": 41,
   "metadata": {
    "id": "3F2Od1YZsMrb"
   },
   "outputs": [],
   "source": [
    "model.load_state_dict(torch.load(\"model.pk1\")) \n",
    "model.eval()\n",
    "\n",
    "\n",
    "data = pd.read_csv('test.csv')\n",
    "\n",
    "test_inputs = torch.tensor(data.values.tolist(), dtype=torch.float32).to(device)\n",
    "test_inputs = torch.reshape(test_inputs, (test_inputs.shape[0], 28, 28))\n",
    "test_inputs = torch.unsqueeze(test_inputs, dim=1)\n",
    "\n",
    "test_ans = []\n",
    "\n",
    "for row in test_inputs:\n",
    "    test_ans.append(torch.max(model(torch.unsqueeze(row, dim=0)),1)[1].item())\n",
    "#     print(torch.max(model(torch.unsqueeze(row, dim=0)),1)[1].item())\n",
    "\n",
    "# test_ans = model(test_inputs)\n",
    "\n",
    "submission = pd.read_csv('./sample_submission.csv')\n",
    "submission['Label'] = torch.tensor(test_ans).cpu()\n",
    "submission.to_csv('./sample_submission.csv', index=False)"
   ]
  }
 ],
 "metadata": {
  "colab": {
   "authorship_tag": "ABX9TyOUuSoZwpjY4jdRhuixvOCh",
   "collapsed_sections": [],
   "name": "Digit Recognizer.ipynb",
   "provenance": []
  },
  "kernelspec": {
   "display_name": "Python 3 (ipykernel)",
   "language": "python",
   "name": "python3"
  },
  "language_info": {
   "codemirror_mode": {
    "name": "ipython",
    "version": 3
   },
   "file_extension": ".py",
   "mimetype": "text/x-python",
   "name": "python",
   "nbconvert_exporter": "python",
   "pygments_lexer": "ipython3",
   "version": "3.9.7"
  }
 },
 "nbformat": 4,
 "nbformat_minor": 1
}
